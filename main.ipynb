{
 "cells": [
  {
   "cell_type": "markdown",
   "metadata": {},
   "source": [
    "# **Auxilliary**"
   ]
  },
  {
   "cell_type": "code",
   "execution_count": null,
   "metadata": {},
   "outputs": [],
   "source": [
    "# Library Imports\n",
    "import sys\n",
    "import pandas as pd\n",
    "\n",
    "from dataset import dataset_generator\n",
    "from bot.bot import Bot\n",
    "from modelling import data_preparation as dp\n",
    "from modelling import model_trainer as mt\n",
    "\n",
    "path = \"binary-options-research/\"\n",
    "if path not in sys.path:\n",
    "    sys.path.append(path)\n",
    "sys.stdout = open(\"stdout\", 'w')\n",
    "\n",
    "%load_ext autoreload\n",
    "%autoreload 2"
   ]
  },
  {
   "cell_type": "markdown",
   "metadata": {},
   "source": [
    "# **Data Generation**"
   ]
  },
  {
   "cell_type": "code",
   "execution_count": null,
   "metadata": {},
   "outputs": [],
   "source": [
    "# Dataset Generation\n",
    "dataset_generator.make([\"BTCUSDT\"], \"1m\")"
   ]
  },
  {
   "cell_type": "markdown",
   "metadata": {},
   "source": [
    "# **Data Extraction**"
   ]
  },
  {
   "cell_type": "code",
   "execution_count": null,
   "metadata": {},
   "outputs": [],
   "source": [
    "# Data Extraction\n",
    "candles = pd.read_csv(f\"dataset/BTCUSDT-1m-2020_2024.csv\", index_col=0)\n",
    "candles_training = candles[(candles['open_time'] >= '2020-01-01') & (candles['open_time'] < '2023-01-01')].reset_index(drop=True)\n",
    "\n",
    "bot = Bot(candles_training, 0)\n",
    "bot._pattern_features_service()"
   ]
  },
  {
   "cell_type": "markdown",
   "metadata": {},
   "source": [
    "# **Model Training**"
   ]
  },
  {
   "cell_type": "code",
   "execution_count": null,
   "metadata": {},
   "outputs": [],
   "source": [
    "# Save data Double Bottom\n",
    "features = pd.read_csv(\"features/features.csv\")\n",
    "features_db = features[features['pattern'] == \"Double Bottom\"].reset_index(drop=True)\n",
    "X_train, y_train, X_valid, y_valid, X_test, y_test = dp.split_data(features_db)\n",
    "print(\"Writing data\")\n",
    "dp.save_data(X_train, y_train, X_valid, y_valid, X_test, y_test)"
   ]
  },
  {
   "cell_type": "code",
   "execution_count": null,
   "metadata": {},
   "outputs": [],
   "source": [
    "# Parameter Hypertuning Double Bottom\n",
    "X_train, y_train, X_valid, y_valid, X_test, y_test = dp.load_data()\n",
    "mt.find_hyper_params(X_train, y_train, X_valid, y_valid)"
   ]
  },
  {
   "cell_type": "code",
   "execution_count": null,
   "metadata": {},
   "outputs": [],
   "source": [
    "# Model Training Double Bottom\n",
    "hyper = {'base_score': 7, 'colsample_bylevel': 9, 'colsample_bynode': 1, 'colsample_bytree': 9, 'gamma': 2, 'learning_rate': 6, 'max_depth': 9, 'min_child_weight': 0, 'n_estimators': 0, 'reg_alpha': 3, 'reg_lambda': 3, 'scale_pos_weight': 8, 'subsample': 3}\n",
    "X_train, y_train, X_valid, y_valid, X_test, y_test  = dp.load_data()\n",
    "mt.fit_model(X_train, y_train, X_valid, y_valid, X_test, y_test, hyper, \"DBmodel\") "
   ]
  },
  {
   "cell_type": "code",
   "execution_count": null,
   "metadata": {},
   "outputs": [],
   "source": [
    "# Save data Double Top\n",
    "features = pd.read_csv(\"features/features.csv\")\n",
    "features_dt = features[features['pattern'] == \"Double Top\"].reset_index(drop=True)\n",
    "X_train, y_train, X_valid, y_valid, X_test, y_test = dp.split_data(features_dt)\n",
    "print(\"Writing data\")\n",
    "dp.save_data(X_train, y_train, X_valid, y_valid, X_test, y_test)"
   ]
  },
  {
   "cell_type": "code",
   "execution_count": 109,
   "metadata": {},
   "outputs": [],
   "source": [
    "# Parameter Hypertuning Double Top\n",
    "X_train, y_train, X_valid, y_valid, X_test, y_test = dp.load_data()\n",
    "mt.find_hyper_params(X_train, y_train, X_valid, y_valid)"
   ]
  },
  {
   "cell_type": "code",
   "execution_count": 111,
   "metadata": {},
   "outputs": [],
   "source": [
    "# Model Training Double Top\n",
    "hyper = {'base_score': 1, 'colsample_bylevel': 11, 'colsample_bynode': 0, 'colsample_bytree': 9, 'gamma': 0, 'learning_rate': 7, 'max_depth': 3, 'min_child_weight': 0, 'n_estimators': 2, 'reg_alpha': 5, 'reg_lambda': 9, 'scale_pos_weight': 10, 'subsample': 2}\n",
    "X_train, y_train, X_valid, y_valid, X_test, y_test  = dp.load_data()\n",
    "mt.fit_model(X_train, y_train, X_valid, y_valid, X_test, y_test, hyper, \"DTmodel\") "
   ]
  },
  {
   "cell_type": "markdown",
   "metadata": {},
   "source": [
    "# **Forward Testing**"
   ]
  },
  {
   "cell_type": "code",
   "execution_count": null,
   "metadata": {},
   "outputs": [],
   "source": [
    "# Model testing\n",
    "candles = pd.read_csv(f\"dataset/BTCUSDT-1m-2020_2024.csv\", index_col=0)\n",
    "candles_training = candles[(candles['open_time'] >= '2023-01-01')].reset_index(drop=True)\n",
    "\n",
    "bot = Bot(candles_training, 1)\n",
    "bot._pattern_features_service()"
   ]
  }
 ],
 "metadata": {
  "kernelspec": {
   "display_name": "Capstone",
   "language": "python",
   "name": "python3"
  },
  "language_info": {
   "codemirror_mode": {
    "name": "ipython",
    "version": 3
   },
   "file_extension": ".py",
   "mimetype": "text/x-python",
   "name": "python",
   "nbconvert_exporter": "python",
   "pygments_lexer": "ipython3",
   "version": "3.9.19"
  }
 },
 "nbformat": 4,
 "nbformat_minor": 2
}
