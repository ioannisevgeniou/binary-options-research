{
 "cells": [
  {
   "cell_type": "markdown",
   "metadata": {},
   "source": [
    "# **Auxilliary**"
   ]
  },
  {
   "cell_type": "code",
   "execution_count": 1,
   "metadata": {},
   "outputs": [],
   "source": [
    "# Library Imports\n",
    "import sys\n",
    "import numpy as np\n",
    "import pandas as pd\n",
    "\n",
    "from dataset import dataset_generator\n",
    "from bot.bot import Bot\n",
    "from modelling import data_preparation as dp\n",
    "from modelling import model_trainer as mt\n",
    "\n",
    "path = \"binary-options-research/\"\n",
    "if path not in sys.path:\n",
    "    sys.path.append(path)\n",
    "sys.stdout = open(\"stdout\", 'w')\n",
    "\n",
    "np.random.seed(42)\n",
    "\n",
    "%load_ext autoreload\n",
    "%autoreload 2"
   ]
  },
  {
   "cell_type": "markdown",
   "metadata": {},
   "source": [
    "# **Data Generation**"
   ]
  },
  {
   "cell_type": "code",
   "execution_count": 11,
   "metadata": {},
   "outputs": [],
   "source": [
    "# Dataset Generation\n",
    "dataset_generator.make([\"BTCUSDT\"], \"3m\")"
   ]
  },
  {
   "cell_type": "markdown",
   "metadata": {},
   "source": [
    "# **Data Extraction**"
   ]
  },
  {
   "cell_type": "code",
   "execution_count": 14,
   "metadata": {},
   "outputs": [],
   "source": [
    "# Data Extraction\n",
    "candles = pd.read_csv(f\"dataset/BTCUSDT-3m-2020_2024.csv\", index_col=0)\n",
    "candles_training = candles[(candles['open_time'] >= '2020-01-01') & (candles['open_time'] < '2023-01-01')].reset_index(drop=True)\n",
    "\n",
    "bot = Bot(candles_training, 0, None, None)\n",
    "bot._pattern_features_service(1)"
   ]
  },
  {
   "cell_type": "markdown",
   "metadata": {},
   "source": [
    "# **Model Training**"
   ]
  },
  {
   "cell_type": "code",
   "execution_count": 18,
   "metadata": {},
   "outputs": [],
   "source": [
    "# Save data Double Bottom\n",
    "features = pd.read_csv(\"features/features_3m_30.csv\")\n",
    "features = features[features['pattern'] == \"Double Bottom\"].reset_index(drop=True)\n",
    "X_train, y_train, X_valid, y_valid, X_test, y_test = dp.split_data(features)\n",
    "print(\"Writing data\")\n",
    "dp.save_data(X_train, y_train, X_valid, y_valid, X_test, y_test)"
   ]
  },
  {
   "cell_type": "code",
   "execution_count": 19,
   "metadata": {},
   "outputs": [],
   "source": [
    "# Parameter Hypertuning Double Bottom\n",
    "X_train, y_train, X_valid, y_valid, X_test, y_test = dp.load_data()\n",
    "mt.find_hyper_params(X_train, y_train, X_valid, y_valid)"
   ]
  },
  {
   "cell_type": "code",
   "execution_count": 20,
   "metadata": {},
   "outputs": [],
   "source": [
    "# Model Training Double Bottom\n",
    "hyper = {'base_score': 2, 'colsample_bylevel': 10, 'colsample_bynode': 7, 'colsample_bytree': 9, 'gamma': 2, 'learning_rate': 6, 'max_depth': 14, 'min_child_weight': 0, 'n_estimators': 4, 'reg_alpha': 0, 'reg_lambda': 2, 'scale_pos_weight': 1, 'subsample': 4}\n",
    "X_train, y_train, X_valid, y_valid, X_test, y_test  = dp.load_data()\n",
    "mt.fit_model(X_train, y_train, X_valid, y_valid, X_test, y_test, hyper, \"DBmodel_3m_30\") "
   ]
  },
  {
   "cell_type": "code",
   "execution_count": 21,
   "metadata": {},
   "outputs": [],
   "source": [
    "# Save data Double Top\n",
    "features = pd.read_csv(\"features/features_3m_30.csv\")\n",
    "features = features[features['pattern'] == \"Double Top\"].reset_index(drop=True)\n",
    "X_train, y_train, X_valid, y_valid, X_test, y_test = dp.split_data(features)\n",
    "print(\"Writing data\")\n",
    "dp.save_data(X_train, y_train, X_valid, y_valid, X_test, y_test)"
   ]
  },
  {
   "cell_type": "code",
   "execution_count": 22,
   "metadata": {},
   "outputs": [],
   "source": [
    "# Parameter Hypertuning Double Top\n",
    "X_train, y_train, X_valid, y_valid, X_test, y_test = dp.load_data()\n",
    "mt.find_hyper_params(X_train, y_train, X_valid, y_valid)"
   ]
  },
  {
   "cell_type": "code",
   "execution_count": 23,
   "metadata": {},
   "outputs": [],
   "source": [
    "# Model Training Double Top\n",
    "hyper = {'base_score': 9, 'colsample_bylevel': 8, 'colsample_bynode': 2, 'colsample_bytree': 6, 'gamma': 0, 'learning_rate': 9, 'max_depth': 6, 'min_child_weight': 1, 'n_estimators': 1, 'reg_alpha': 4, 'reg_lambda': 2, 'scale_pos_weight': 5, 'subsample': 1}\n",
    "X_train, y_train, X_valid, y_valid, X_test, y_test  = dp.load_data()\n",
    "mt.fit_model(X_train, y_train, X_valid, y_valid, X_test, y_test, hyper, \"DTmodel_3m_30\") "
   ]
  },
  {
   "cell_type": "markdown",
   "metadata": {},
   "source": [
    "# **Forward Testing**"
   ]
  },
  {
   "cell_type": "code",
   "execution_count": 25,
   "metadata": {},
   "outputs": [],
   "source": [
    "# Model testing\n",
    "candles = pd.read_csv(f\"dataset/BTCUSDT-3m-2020_2024.csv\", index_col=0)\n",
    "candles_testing = candles[(candles['open_time'] >= '2023-01-01')].reset_index(drop=True)\n",
    "\n",
    "bot = Bot(candles_testing, 1, \"DBmodel_3m_30\", \"DTmodel_3m_30\")\n",
    "bot._pattern_features_service(30)"
   ]
  }
 ],
 "metadata": {
  "kernelspec": {
   "display_name": "Capstone",
   "language": "python",
   "name": "python3"
  },
  "language_info": {
   "codemirror_mode": {
    "name": "ipython",
    "version": 3
   },
   "file_extension": ".py",
   "mimetype": "text/x-python",
   "name": "python",
   "nbconvert_exporter": "python",
   "pygments_lexer": "ipython3",
   "version": "3.9.19"
  }
 },
 "nbformat": 4,
 "nbformat_minor": 2
}
